{
 "cells": [
  {
   "cell_type": "code",
   "execution_count": 1,
   "metadata": {},
   "outputs": [],
   "source": [
    "import yaml"
   ]
  },
  {
   "cell_type": "code",
   "execution_count": 7,
   "metadata": {},
   "outputs": [],
   "source": [
    "def parse_config(yaml_path):\n",
    "    \"\"\"Parse YAML config file, accepting only basic YAML tags\"\"\"\n",
    "    with open(yaml_path, \"r\") as stream:\n",
    "        data = yaml.safe_load(stream)\n",
    "    return data\n",
    "\n",
    "def write_config(data,yaml_path):\n",
    "    \"\"\"Write YAML config file, using only basic YAML tags\"\"\"\n",
    "    with open(yaml_path, mode=\"wt\", encoding=\"utf-8\") as stream:\n",
    "        yaml.safe_dump(data,stream,sort_keys=False)"
   ]
  },
  {
   "cell_type": "code",
   "execution_count": 8,
   "metadata": {},
   "outputs": [
    {
     "data": {
      "text/plain": [
       "{'datetime': None,\n",
       " 'grouping': None,\n",
       " 'area': None,\n",
       " 'nfiles': None,\n",
       " 'organisation': 'UiT',\n",
       " 'mosaic': True,\n",
       " 'classify': False,\n",
       " 'publish': True,\n",
       " 'theme': 'Seabirds',\n",
       " 'spectrum_type': 'HSI',\n",
       " 'creator_name': 'Martin H. Skjelvareid',\n",
       " 'project': 'Massimal'}"
      ]
     },
     "execution_count": 8,
     "metadata": {},
     "output_type": "execute_result"
    }
   ],
   "source": [
    "data = parse_config('config.seabee.yaml')\n",
    "data"
   ]
  },
  {
   "cell_type": "code",
   "execution_count": 9,
   "metadata": {},
   "outputs": [],
   "source": [
    "data['nfiles'] = 3"
   ]
  },
  {
   "cell_type": "code",
   "execution_count": 10,
   "metadata": {},
   "outputs": [],
   "source": [
    "write_config(data,\"modified.yaml\")"
   ]
  },
  {
   "cell_type": "code",
   "execution_count": 11,
   "metadata": {},
   "outputs": [
    {
     "data": {
      "text/plain": [
       "{'datetime': None,\n",
       " 'grouping': None,\n",
       " 'area': None,\n",
       " 'nfiles': 3,\n",
       " 'organisation': 'UiT',\n",
       " 'mosaic': True,\n",
       " 'classify': False,\n",
       " 'publish': True,\n",
       " 'theme': 'Seabirds',\n",
       " 'spectrum_type': 'HSI',\n",
       " 'creator_name': 'Martin H. Skjelvareid',\n",
       " 'project': 'Massimal'}"
      ]
     },
     "execution_count": 11,
     "metadata": {},
     "output_type": "execute_result"
    }
   ],
   "source": [
    "mod_data = parse_config(\"modified.yaml\")\n",
    "mod_data"
   ]
  },
  {
   "cell_type": "code",
   "execution_count": null,
   "metadata": {},
   "outputs": [],
   "source": []
  }
 ],
 "metadata": {
  "kernelspec": {
   "display_name": "massipipe",
   "language": "python",
   "name": "python3"
  },
  "language_info": {
   "codemirror_mode": {
    "name": "ipython",
    "version": 3
   },
   "file_extension": ".py",
   "mimetype": "text/x-python",
   "name": "python",
   "nbconvert_exporter": "python",
   "pygments_lexer": "ipython3",
   "version": "3.10.14"
  }
 },
 "nbformat": 4,
 "nbformat_minor": 2
}
