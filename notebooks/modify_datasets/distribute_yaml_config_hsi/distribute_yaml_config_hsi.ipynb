{
 "cells": [
  {
   "cell_type": "markdown",
   "metadata": {},
   "source": [
    "# Distribute YAML config files\n",
    "This notebook is used to copy a template YAML file (where some information has already been filled in) to a set of dataset directories. Each YAML file is then modified, filling in the details that are specific to each dataset (date, grouping, area, number of raw files). These details (except number of files) are inferred from the name of the dataset directory, which follows the pattern `massimal_<grouping>_<area>_<datetime>-<optional_identifier(s)>_hsi`. "
   ]
  },
  {
   "cell_type": "code",
   "execution_count": 1,
   "metadata": {},
   "outputs": [],
   "source": [
    "import yaml\n",
    "from pathlib import Path  \n",
    "import shutil"
   ]
  },
  {
   "cell_type": "code",
   "execution_count": 2,
   "metadata": {},
   "outputs": [],
   "source": [
    "base_dirs = ['/home/mha114/data/seabee-minio']\n",
    "yaml_file_name = 'config.seabee.yaml'"
   ]
  },
  {
   "cell_type": "code",
   "execution_count": 3,
   "metadata": {},
   "outputs": [],
   "source": [
    "def parse_config(yaml_path):\n",
    "    \"\"\"Parse YAML config file, accepting only basic YAML tags\"\"\"\n",
    "    with open(yaml_path, \"r\") as stream:\n",
    "        data = yaml.safe_load(stream)\n",
    "    return data\n",
    "\n",
    "def write_config(data,yaml_path):\n",
    "    \"\"\"Write YAML config file, using only basic YAML tags\"\"\"\n",
    "    with open(yaml_path, mode=\"wt\",encoding=\"utf-8\") as stream:\n",
    "        yaml.safe_dump(data,stream,sort_keys=False)"
   ]
  },
  {
   "cell_type": "code",
   "execution_count": 4,
   "metadata": {},
   "outputs": [],
   "source": [
    "def find_hsi_datasets(base_dir:Path,dataset_subdir_search_str='0_raw'):\n",
    "    \"\"\"Find HSI dataset paths based on expected subdirectory in dataset\"\"\"\n",
    "    subdirs = base_dir.rglob(dataset_subdir_search_str)\n",
    "    return [subdir.parent for subdir in subdirs]"
   ]
  },
  {
   "cell_type": "code",
   "execution_count": 5,
   "metadata": {},
   "outputs": [
    {
     "name": "stdout",
     "output_type": "stream",
     "text": [
      "BASE DIR: /home/mha114/data/seabee-minio\n",
      "    massimal_smola_skalmen_202306201736-nw_hsi\n",
      "    massimal_smola_skalmen_202306201520-nw_hsi\n",
      "    massimal_smola_skalmen_202306201815-se_hsi\n",
      "    massimal_smola_skalmen_202306201640-nw_hsi\n",
      "    massimal_smola_skalmen_202306201552-nw_hsi\n",
      "    massimal_smola_skalmen_202306201709-nw_hsi\n",
      "    massimal_smola_skalmen_202306201842-se_hsi\n",
      "    massimal_smola_maholmen_202306191438-all_hsi\n",
      "    massimal_smola_maholmen_202306211432-3_hsi\n",
      "    massimal_smola_maholmen_202306211228-2_hsi\n",
      "    massimal_smola_maholmen_202306211155-2_hsi\n",
      "    massimal_smola_maholmen_202306211324-2_hsi\n",
      "    massimal_smola_maholmen_202306211129-2_hsi\n",
      "    massimal_smola_maholmen_202306211355-3_hsi\n",
      "    massimal_larvik_olbergholmen_202108251029-south_hsi\n",
      "    massimal_larvik_olbergholmen_202108251318-north2_hsi\n",
      "    massimal_larvik_olbergholmen_202108250952-north1_hsi\n",
      "    massimal_larvik_olbergholmen_202308301025-north_hsi\n",
      "    massimal_larvik_olbergholmen_202308300939-south2_hsi\n",
      "    massimal_larvik_olbergholmen_202308301228-south-test_hsi\n",
      "    massimal_larvik_olbergholmen_202308301028-north-test_hsi\n",
      "    massimal_larvik_olbergholmen_202308301001-south-test_hsi\n",
      "    massimal_larvik_olbergholmen_202308300959-south1_hsi\n",
      "    massimal_larvik_terneholmen_202308310949_hsi\n",
      "    massimal_larvik_terneholmen_202308310921_hsi\n",
      "    massimal_larvik_terneholmen_202308310856_hsi\n",
      "    massimal_larvik_kongsbakkebukta_202308301328_hsi\n",
      "    massimal_bodo_saltstraumen_202203121143-small_hsi\n",
      "    massimal_bodo_saltstraumen_202203121214-large2_hsi\n",
      "    massimal_bodo_saltstraumen_202203121116-large1_hsi\n",
      "    massimal_bodo_sandsund_202106021653_hsi\n",
      "    massimal_bodo_sandsund_202310130944_hsi\n",
      "    massimal_bodo_kvikstad_202310131124_hsi\n",
      "    massimal_bodo_kvikstad_202310131102_hsi\n",
      "    massimal_bodo_juvika_202224061528_hsi\n",
      "    massimal_vega_sola_202208231431-coast2_hsi\n",
      "    massimal_vega_sola_202208231309-sound3b_hsi\n",
      "    massimal_vega_sola_202208231608-coast3_hsi\n",
      "    massimal_vega_sola_202208231139-sound2_hsi\n",
      "    massimal_vega_sola_202208231509-coast1_hsi\n",
      "    massimal_vega_sola_202208231211-sound3a_hsi\n",
      "    massimal_vega_sola_202208231111-sound1_hsi\n"
     ]
    }
   ],
   "source": [
    "# \"Dry-run\", show found dataset dirs\n",
    "for base_dir in base_dirs:\n",
    "    print(f'BASE DIR: {base_dir}')\n",
    "    dataset_dirs = find_hsi_datasets(Path(base_dir))\n",
    "    for dd in dataset_dirs:\n",
    "        print('    ' + dd.name)"
   ]
  },
  {
   "cell_type": "code",
   "execution_count": 6,
   "metadata": {},
   "outputs": [],
   "source": [
    "# Copy template to all dataset dirs\n",
    "for base_dir in base_dirs:\n",
    "    dataset_dirs = find_hsi_datasets(Path(base_dir))\n",
    "    for dataset_dir in dataset_dirs:\n",
    "        shutil.copy(yaml_file_name,dataset_dir)"
   ]
  },
  {
   "cell_type": "code",
   "execution_count": 7,
   "metadata": {},
   "outputs": [],
   "source": [
    "# Update YAML files with date, area etc. specific to each dataset\n",
    "for dataset_dir in dataset_dirs:\n",
    "    # Get dataset information from dataset directory name\n",
    "    try:\n",
    "        _,grouping,area,datetime,_ = dataset_dir.name.split('_')\n",
    "        datetime = datetime.split('-')[0] # Remove additional dataset identifier, e.g. \"north\"\n",
    "        nfiles = sum([Path(raw_dir).is_dir() for raw_dir in (dataset_dir / '0_raw').glob('*')])\n",
    "    except ValueError:\n",
    "        print(f'Error while parsing dataset {dataset_dir}')\n",
    "        \n",
    "    # Read current YAML file\n",
    "    dataset_yaml_path = dataset_dir / yaml_file_name\n",
    "    yaml_data = parse_config(dataset_yaml_path)\n",
    "\n",
    "    # Update with information from directory name\n",
    "    yaml_data['grouping'] = grouping\n",
    "    yaml_data['area'] = area\n",
    "    yaml_data['datetime'] = datetime\n",
    "    yaml_data['nfiles'] = nfiles\n",
    "    write_config(yaml_data,dataset_yaml_path)\n",
    "\n",
    "    "
   ]
  },
  {
   "cell_type": "code",
   "execution_count": null,
   "metadata": {},
   "outputs": [],
   "source": []
  }
 ],
 "metadata": {
  "kernelspec": {
   "display_name": "Python 3 (ipykernel)",
   "language": "python",
   "name": "python3"
  },
  "language_info": {
   "codemirror_mode": {
    "name": "ipython",
    "version": 3
   },
   "file_extension": ".py",
   "mimetype": "text/x-python",
   "name": "python",
   "nbconvert_exporter": "python",
   "pygments_lexer": "ipython3",
   "version": "3.10.5"
  }
 },
 "nbformat": 4,
 "nbformat_minor": 4
}
