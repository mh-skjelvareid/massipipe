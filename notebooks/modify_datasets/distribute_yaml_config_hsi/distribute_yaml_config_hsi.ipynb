{
 "cells": [
  {
   "cell_type": "code",
   "execution_count": 5,
   "metadata": {},
   "outputs": [],
   "source": [
    "import yaml\n",
    "from pathlib import Path  \n",
    "import shutil"
   ]
  },
  {
   "cell_type": "code",
   "execution_count": 2,
   "metadata": {},
   "outputs": [],
   "source": [
    "base_dirs = ['']"
   ]
  },
  {
   "cell_type": "code",
   "execution_count": 3,
   "metadata": {},
   "outputs": [],
   "source": [
    "def parse_config(yaml_path):\n",
    "    \"\"\"Parse YAML config file, accepting only basic YAML tags\"\"\"\n",
    "    with open(yaml_path, \"r\") as stream:\n",
    "        data = yaml.safe_load(stream)\n",
    "    return data\n",
    "\n",
    "def write_config(data,yaml_path):\n",
    "    \"\"\"Write YAML config file, using only basic YAML tags\"\"\"\n",
    "    with open(yaml_path, mode=\"wt\",encoding=\"utf-8\") as stream:\n",
    "        yaml.safe_dump(data,stream,sort_keys=False)"
   ]
  },
  {
   "cell_type": "code",
   "execution_count": 4,
   "metadata": {},
   "outputs": [],
   "source": [
    "def find_hsi_datasets(base_dir:Path,dataset_subdir_search_str='0_raw'):\n",
    "    subdirs = base_dir.rglob(f'**{dataset_subdir_search_str}')\n",
    "    return [subdir.parent for subdir in subdirs]"
   ]
  },
  {
   "cell_type": "code",
   "execution_count": null,
   "metadata": {},
   "outputs": [],
   "source": [
    "# \"Dry-run\", show found dataset dirs\n",
    "for base_dir in base_dirs:\n",
    "    dataset_dirs = find_hsi_datasets(Path(base_dir)):\n",
    "    print(dataset_dirs)"
   ]
  },
  {
   "cell_type": "code",
   "execution_count": null,
   "metadata": {},
   "outputs": [],
   "source": [
    "# Copy template to all dataset dirs\n",
    "for base_dir in base_dirs:\n",
    "    dataset_dirs = find_hsi_datasets(Path(base_dir)):\n",
    "    for dataset_dir in dataset_dirs:\n",
    "        shutil.copy('config.seabee.yaml',dataset_dir)"
   ]
  }
 ],
 "metadata": {
  "kernelspec": {
   "display_name": "massipipe",
   "language": "python",
   "name": "python3"
  },
  "language_info": {
   "codemirror_mode": {
    "name": "ipython",
    "version": 3
   },
   "file_extension": ".py",
   "mimetype": "text/x-python",
   "name": "python",
   "nbconvert_exporter": "python",
   "pygments_lexer": "ipython3",
   "version": "3.10.14"
  }
 },
 "nbformat": 4,
 "nbformat_minor": 2
}
