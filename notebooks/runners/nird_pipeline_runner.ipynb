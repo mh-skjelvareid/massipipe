{
 "cells": [
  {
   "cell_type": "code",
   "execution_count": 1,
   "metadata": {},
   "outputs": [],
   "source": [
    "from massipipe.pipeline import PipelineProcessor\n",
    "from pathlib import Path"
   ]
  },
  {
   "cell_type": "code",
   "execution_count": 2,
   "metadata": {},
   "outputs": [],
   "source": [
    "base_dirs = ['/home/mha114/data/seabee-minio']\n",
    "yaml_file_name = 'config.seabee.yaml'"
   ]
  },
  {
   "cell_type": "code",
   "execution_count": null,
   "metadata": {},
   "outputs": [],
   "source": [
    "def find_dataset_dirs(base_dir):\n",
    "    search_str = f'**/hsi/**{yaml_file_name}'\n",
    "    hsi_yaml_files = Path(base_dir).rglob(search_str)"
   ]
  }
 ],
 "metadata": {
  "kernelspec": {
   "display_name": "massipipe",
   "language": "python",
   "name": "python3"
  },
  "language_info": {
   "codemirror_mode": {
    "name": "ipython",
    "version": 3
   },
   "file_extension": ".py",
   "mimetype": "text/x-python",
   "name": "python",
   "nbconvert_exporter": "python",
   "pygments_lexer": "ipython3",
   "version": "3.10.14"
  }
 },
 "nbformat": 4,
 "nbformat_minor": 2
}
